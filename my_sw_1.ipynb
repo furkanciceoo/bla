{
 "cells": [
  {
   "cell_type": "code",
   "execution_count": 7,
   "id": "783611f1-909c-4716-98bd-2c13be4c8b77",
   "metadata": {},
   "outputs": [],
   "source": [
    "#     KULLANICIDAN İSTENEN BİR METNİ AŞAĞIDAKİ GİBİ YAZDIRAN ALGORİTMA\n",
    "def functionn():\n",
    "    a = 0\n",
    "    for let in string_phyton:\n",
    "        print ( string_phyton [ 0 : a : 1 ] , let , sep= \"\" )\n",
    "        a += 1\n",
    "    phyt_list = list(range ( 1 , len ( string_phyton ) + 1 ))\n",
    "    for elements in phyt_list:\n",
    "        print ( string_phyton [ 0 : len(string_phyton) - 1 - a : 1 ] )\n",
    "        a += 1"
   ]
  },
  {
   "cell_type": "code",
   "execution_count": null,
   "id": "73ebda64-be40-4c86-80bd-540c51afc799",
   "metadata": {},
   "outputs": [],
   "source": [
    "string_phyton = input ( \" just type something that you want and watch :) :  \" )\n",
    "functionn()"
   ]
  },
  {
   "cell_type": "code",
   "execution_count": null,
   "id": "897debca-827b-4e27-ad82-ee9ff63babd6",
   "metadata": {},
   "outputs": [],
   "source": []
  }
 ],
 "metadata": {
  "kernelspec": {
   "display_name": "Python 3 (ipykernel)",
   "language": "python",
   "name": "python3"
  },
  "language_info": {
   "codemirror_mode": {
    "name": "ipython",
    "version": 3
   },
   "file_extension": ".py",
   "mimetype": "text/x-python",
   "name": "python",
   "nbconvert_exporter": "python",
   "pygments_lexer": "ipython3",
   "version": "3.11.7"
  }
 },
 "nbformat": 4,
 "nbformat_minor": 5
}
