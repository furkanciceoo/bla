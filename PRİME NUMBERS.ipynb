{
 "cells": [
  {
   "cell_type": "code",
   "execution_count": 11,
   "id": "c4544335-4c95-4aad-97ed-13af80e2710b",
   "metadata": {},
   "outputs": [
    {
     "name": "stdin",
     "output_type": "stream",
     "text": [
      "enter a number:   79873\n"
     ]
    },
    {
     "name": "stdout",
     "output_type": "stream",
     "text": [
      " you picked a prime number \n"
     ]
    }
   ],
   "source": [
    "#   THE PRİME NUMBER CALCULATOR\n",
    "\n",
    "prime_number = int ( input ( \"enter a number:  \" ))\n",
    "prime_list = list (range ( 2 , prime_number ))\n",
    "list_a = []\n",
    "for nums in prime_list:\n",
    "    c = prime_number % nums\n",
    "    list_a.append(c)\n",
    "if 0  in list_a:\n",
    "    print (\" the number you picked is not a prime number \" )\n",
    "\n",
    "else:\n",
    "    print ( \" you picked a prime number \" )\n",
    "    "
   ]
  },
  {
   "cell_type": "code",
   "execution_count": null,
   "id": "595c750a-13c5-49a6-86d8-abed671b25e9",
   "metadata": {},
   "outputs": [],
   "source": []
  },
  {
   "cell_type": "code",
   "execution_count": null,
   "id": "45cf5d62-e7fc-4262-9545-23750916d56a",
   "metadata": {},
   "outputs": [],
   "source": []
  },
  {
   "cell_type": "code",
   "execution_count": null,
   "id": "9fd495c6-f42f-454a-8152-7465b6343f85",
   "metadata": {},
   "outputs": [],
   "source": []
  },
  {
   "cell_type": "code",
   "execution_count": null,
   "id": "a7d46b76-fa9f-4a7c-b99c-78fca38f65df",
   "metadata": {},
   "outputs": [],
   "source": []
  },
  {
   "cell_type": "code",
   "execution_count": null,
   "id": "784d59cf-7b2e-4df6-8377-e34aac641ec0",
   "metadata": {},
   "outputs": [],
   "source": []
  },
  {
   "cell_type": "code",
   "execution_count": null,
   "id": "839d9f32-208b-423e-9ce9-65ef513d5894",
   "metadata": {},
   "outputs": [],
   "source": []
  },
  {
   "cell_type": "code",
   "execution_count": null,
   "id": "d7a6ddb3-f705-4e56-bbd4-d83b54cde36c",
   "metadata": {},
   "outputs": [],
   "source": []
  },
  {
   "cell_type": "code",
   "execution_count": null,
   "id": "17f14d08-c988-44df-ada7-e2188cb28f57",
   "metadata": {},
   "outputs": [],
   "source": []
  }
 ],
 "metadata": {
  "kernelspec": {
   "display_name": "Python 3 (ipykernel)",
   "language": "python",
   "name": "python3"
  },
  "language_info": {
   "codemirror_mode": {
    "name": "ipython",
    "version": 3
   },
   "file_extension": ".py",
   "mimetype": "text/x-python",
   "name": "python",
   "nbconvert_exporter": "python",
   "pygments_lexer": "ipython3",
   "version": "3.11.7"
  }
 },
 "nbformat": 4,
 "nbformat_minor": 5
}
